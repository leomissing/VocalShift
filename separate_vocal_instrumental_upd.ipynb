{
 "cells": [
  {
   "cell_type": "code",
   "execution_count": 4,
   "metadata": {},
   "outputs": [
    {
     "name": "stdout",
     "output_type": "stream",
     "text": [
      "Collecting pydub\n",
      "  Using cached pydub-0.25.1-py2.py3-none-any.whl (32 kB)\n",
      "Installing collected packages: pydub\n",
      "Successfully installed pydub-0.25.1\n"
     ]
    }
   ],
   "source": [
    "!pip install pydub"
   ]
  },
  {
   "cell_type": "code",
   "execution_count": 5,
   "metadata": {},
   "outputs": [
    {
     "name": "stdout",
     "output_type": "stream",
     "text": [
      "Complete successful in dst\n"
     ]
    }
   ],
   "source": [
    "from src.Convertor import Convertor\n",
    "\n",
    "conv = Convertor()\n",
    "conv.convert('./sounds/kino_test.mp3','.sounds/kino_test.wav',\n",
    "             'mp3','wav')"
   ]
  },
  {
   "cell_type": "code",
   "execution_count": 2,
   "metadata": {},
   "outputs": [
    {
     "name": "stdout",
     "output_type": "stream",
     "text": [
      "Archive:  vocal-remover-v5.1.0.zip\n",
      "  inflating: vocal-remover/.gitignore  \n",
      "   creating: vocal-remover/appendix/\n",
      "  inflating: vocal-remover/appendix/plot_log.py  \n",
      "  inflating: vocal-remover/augment.py  \n",
      "  inflating: vocal-remover/inference.py  \n",
      "   creating: vocal-remover/lib/\n",
      " extracting: vocal-remover/lib/__init__.py  \n",
      "   creating: vocal-remover/lib/__pycache__/\n",
      "  inflating: vocal-remover/lib/__pycache__/__init__.cpython-311.pyc  \n",
      "  inflating: vocal-remover/lib/__pycache__/dataset.cpython-311.pyc  \n",
      "  inflating: vocal-remover/lib/__pycache__/layers.cpython-311.pyc  \n",
      "  inflating: vocal-remover/lib/__pycache__/nets.cpython-311.pyc  \n",
      "  inflating: vocal-remover/lib/__pycache__/spec_utils.cpython-311.pyc  \n",
      "  inflating: vocal-remover/lib/__pycache__/utils.cpython-311.pyc  \n",
      "  inflating: vocal-remover/lib/dataset.py  \n",
      "  inflating: vocal-remover/lib/layers.py  \n",
      "  inflating: vocal-remover/lib/nets.py  \n",
      "  inflating: vocal-remover/lib/spec_utils.py  \n",
      "  inflating: vocal-remover/lib/utils.py  \n",
      "  inflating: vocal-remover/LICENSE   \n",
      "   creating: vocal-remover/models/\n",
      " extracting: vocal-remover/models/.gitkeep  \n",
      "  inflating: vocal-remover/models/baseline.pth  \n",
      "  inflating: vocal-remover/pseudo.py  \n",
      "  inflating: vocal-remover/README.md  \n",
      "  inflating: vocal-remover/requirements.txt  \n",
      "  inflating: vocal-remover/train.py  \n"
     ]
    }
   ],
   "source": [
    "!unzip vocal-remover-v5.1.0.zip"
   ]
  },
  {
   "cell_type": "code",
   "execution_count": 3,
   "metadata": {},
   "outputs": [
    {
     "name": "stdout",
     "output_type": "stream",
     "text": [
      "Requirement already satisfied: librosa~=0.10.0 in ./py10/lib/python3.10/site-packages (from -r ./vocal-remover/requirements.txt (line 4)) (0.10.1)\n",
      "Requirement already satisfied: matplotlib~=3.8.0 in ./py10/lib/python3.10/site-packages (from -r ./vocal-remover/requirements.txt (line 5)) (3.8.2)\n",
      "Requirement already satisfied: opencv_python~=4.8.0 in ./py10/lib/python3.10/site-packages (from -r ./vocal-remover/requirements.txt (line 6)) (4.8.1.78)\n",
      "Requirement already satisfied: resampy~=0.4.0 in ./py10/lib/python3.10/site-packages (from -r ./vocal-remover/requirements.txt (line 7)) (0.4.2)\n",
      "Requirement already satisfied: tqdm~=4.66.0 in ./py10/lib/python3.10/site-packages (from -r ./vocal-remover/requirements.txt (line 8)) (4.66.1)\n",
      "Requirement already satisfied: typing-extensions>=4.1.1 in ./py10/lib/python3.10/site-packages (from librosa~=0.10.0->-r ./vocal-remover/requirements.txt (line 4)) (4.9.0)\n",
      "Requirement already satisfied: soundfile>=0.12.1 in ./py10/lib/python3.10/site-packages (from librosa~=0.10.0->-r ./vocal-remover/requirements.txt (line 4)) (0.12.1)\n",
      "Requirement already satisfied: soxr>=0.3.2 in ./py10/lib/python3.10/site-packages (from librosa~=0.10.0->-r ./vocal-remover/requirements.txt (line 4)) (0.3.7)\n",
      "Requirement already satisfied: lazy-loader>=0.1 in ./py10/lib/python3.10/site-packages (from librosa~=0.10.0->-r ./vocal-remover/requirements.txt (line 4)) (0.3)\n",
      "Requirement already satisfied: scipy>=1.2.0 in ./py10/lib/python3.10/site-packages (from librosa~=0.10.0->-r ./vocal-remover/requirements.txt (line 4)) (1.11.4)\n",
      "Requirement already satisfied: scikit-learn>=0.20.0 in ./py10/lib/python3.10/site-packages (from librosa~=0.10.0->-r ./vocal-remover/requirements.txt (line 4)) (1.3.2)\n",
      "Requirement already satisfied: audioread>=2.1.9 in ./py10/lib/python3.10/site-packages (from librosa~=0.10.0->-r ./vocal-remover/requirements.txt (line 4)) (3.0.1)\n",
      "Requirement already satisfied: msgpack>=1.0 in ./py10/lib/python3.10/site-packages (from librosa~=0.10.0->-r ./vocal-remover/requirements.txt (line 4)) (1.0.7)\n",
      "Requirement already satisfied: joblib>=0.14 in ./py10/lib/python3.10/site-packages (from librosa~=0.10.0->-r ./vocal-remover/requirements.txt (line 4)) (1.3.2)\n",
      "Requirement already satisfied: pooch>=1.0 in ./py10/lib/python3.10/site-packages (from librosa~=0.10.0->-r ./vocal-remover/requirements.txt (line 4)) (1.8.0)\n",
      "Requirement already satisfied: decorator>=4.3.0 in ./py10/lib/python3.10/site-packages (from librosa~=0.10.0->-r ./vocal-remover/requirements.txt (line 4)) (5.1.1)\n",
      "Requirement already satisfied: numba>=0.51.0 in ./py10/lib/python3.10/site-packages (from librosa~=0.10.0->-r ./vocal-remover/requirements.txt (line 4)) (0.58.1)\n",
      "Requirement already satisfied: numpy!=1.22.0,!=1.22.1,!=1.22.2,>=1.20.3 in ./py10/lib/python3.10/site-packages (from librosa~=0.10.0->-r ./vocal-remover/requirements.txt (line 4)) (1.26.3)\n",
      "Requirement already satisfied: python-dateutil>=2.7 in ./py10/lib/python3.10/site-packages (from matplotlib~=3.8.0->-r ./vocal-remover/requirements.txt (line 5)) (2.8.2)\n",
      "Requirement already satisfied: packaging>=20.0 in ./py10/lib/python3.10/site-packages (from matplotlib~=3.8.0->-r ./vocal-remover/requirements.txt (line 5)) (23.2)\n",
      "Requirement already satisfied: fonttools>=4.22.0 in ./py10/lib/python3.10/site-packages (from matplotlib~=3.8.0->-r ./vocal-remover/requirements.txt (line 5)) (4.47.0)\n",
      "Requirement already satisfied: pyparsing>=2.3.1 in ./py10/lib/python3.10/site-packages (from matplotlib~=3.8.0->-r ./vocal-remover/requirements.txt (line 5)) (3.1.1)\n",
      "Requirement already satisfied: pillow>=8 in ./py10/lib/python3.10/site-packages (from matplotlib~=3.8.0->-r ./vocal-remover/requirements.txt (line 5)) (10.2.0)\n",
      "Requirement already satisfied: contourpy>=1.0.1 in ./py10/lib/python3.10/site-packages (from matplotlib~=3.8.0->-r ./vocal-remover/requirements.txt (line 5)) (1.2.0)\n",
      "Requirement already satisfied: kiwisolver>=1.3.1 in ./py10/lib/python3.10/site-packages (from matplotlib~=3.8.0->-r ./vocal-remover/requirements.txt (line 5)) (1.4.5)\n",
      "Requirement already satisfied: cycler>=0.10 in ./py10/lib/python3.10/site-packages (from matplotlib~=3.8.0->-r ./vocal-remover/requirements.txt (line 5)) (0.12.1)\n",
      "Requirement already satisfied: llvmlite<0.42,>=0.41.0dev0 in ./py10/lib/python3.10/site-packages (from numba>=0.51.0->librosa~=0.10.0->-r ./vocal-remover/requirements.txt (line 4)) (0.41.1)\n",
      "Requirement already satisfied: platformdirs>=2.5.0 in ./py10/lib/python3.10/site-packages (from pooch>=1.0->librosa~=0.10.0->-r ./vocal-remover/requirements.txt (line 4)) (4.1.0)\n",
      "Requirement already satisfied: requests>=2.19.0 in ./py10/lib/python3.10/site-packages (from pooch>=1.0->librosa~=0.10.0->-r ./vocal-remover/requirements.txt (line 4)) (2.31.0)\n",
      "Requirement already satisfied: six>=1.5 in ./py10/lib/python3.10/site-packages (from python-dateutil>=2.7->matplotlib~=3.8.0->-r ./vocal-remover/requirements.txt (line 5)) (1.16.0)\n",
      "Requirement already satisfied: threadpoolctl>=2.0.0 in ./py10/lib/python3.10/site-packages (from scikit-learn>=0.20.0->librosa~=0.10.0->-r ./vocal-remover/requirements.txt (line 4)) (3.2.0)\n",
      "Requirement already satisfied: cffi>=1.0 in ./py10/lib/python3.10/site-packages (from soundfile>=0.12.1->librosa~=0.10.0->-r ./vocal-remover/requirements.txt (line 4)) (1.16.0)\n",
      "Requirement already satisfied: pycparser in ./py10/lib/python3.10/site-packages (from cffi>=1.0->soundfile>=0.12.1->librosa~=0.10.0->-r ./vocal-remover/requirements.txt (line 4)) (2.21)\n",
      "Requirement already satisfied: urllib3<3,>=1.21.1 in ./py10/lib/python3.10/site-packages (from requests>=2.19.0->pooch>=1.0->librosa~=0.10.0->-r ./vocal-remover/requirements.txt (line 4)) (2.1.0)\n",
      "Requirement already satisfied: charset-normalizer<4,>=2 in ./py10/lib/python3.10/site-packages (from requests>=2.19.0->pooch>=1.0->librosa~=0.10.0->-r ./vocal-remover/requirements.txt (line 4)) (3.3.2)\n",
      "Requirement already satisfied: certifi>=2017.4.17 in ./py10/lib/python3.10/site-packages (from requests>=2.19.0->pooch>=1.0->librosa~=0.10.0->-r ./vocal-remover/requirements.txt (line 4)) (2023.11.17)\n",
      "Requirement already satisfied: idna<4,>=2.5 in ./py10/lib/python3.10/site-packages (from requests>=2.19.0->pooch>=1.0->librosa~=0.10.0->-r ./vocal-remover/requirements.txt (line 4)) (3.6)\n"
     ]
    }
   ],
   "source": [
    "!pip install -r ./vocal-remover/requirements.txt"
   ]
  },
  {
   "cell_type": "code",
   "execution_count": 15,
   "metadata": {},
   "outputs": [
    {
     "data": {
      "text/plain": [
       "'/home/nikolaypavlychev/VocalShift'"
      ]
     },
     "execution_count": 15,
     "metadata": {},
     "output_type": "execute_result"
    }
   ],
   "source": [
    "import os\n",
    "cwd = os.getcwd()\n",
    "cwd"
   ]
  },
  {
   "cell_type": "code",
   "execution_count": 16,
   "metadata": {},
   "outputs": [],
   "source": [
    "import os\n",
    "import sys\n",
    "cwd = os.getcwd()\n",
    "sys.path.append(cwd+'/vocal-remover/')"
   ]
  },
  {
   "cell_type": "code",
   "execution_count": 26,
   "metadata": {},
   "outputs": [
    {
     "name": "stdout",
     "output_type": "stream",
     "text": [
      "loading model... done\n",
      "loading wave source... done\n",
      "stft of wave source... done\n",
      "100%|███████████████████████████████████████████| 18/18 [00:04<00:00,  3.88it/s]\n",
      "validating output directory... done\n",
      "inverse stft of instruments... done\n",
      "inverse stft of vocals... done\n"
     ]
    }
   ],
   "source": [
    "!python \"{sys.path[-1]}/inference.py\" --pretrained_model \"{sys.path[-1]}/models/baseline.pth\" --gpu 0 --input \"{sys.path[0]}/sounds/kino_test.mp3\" --output_dir \"{sys.path[0]}/sounds\""
   ]
  }
 ],
 "metadata": {
  "kernelspec": {
   "display_name": "py10",
   "language": "python",
   "name": "py10"
  },
  "language_info": {
   "codemirror_mode": {
    "name": "ipython",
    "version": 3
   },
   "file_extension": ".py",
   "mimetype": "text/x-python",
   "name": "python",
   "nbconvert_exporter": "python",
   "pygments_lexer": "ipython3",
   "version": "3.10.12"
  }
 },
 "nbformat": 4,
 "nbformat_minor": 2
}
