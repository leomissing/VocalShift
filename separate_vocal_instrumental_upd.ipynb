{
 "cells": [
  {
   "cell_type": "code",
   "execution_count": 13,
   "metadata": {},
   "outputs": [
    {
     "data": {
      "text/plain": [
       "'/home/nikolaypavlychev/VocalShift/py10/bin/python'"
      ]
     },
     "execution_count": 13,
     "metadata": {},
     "output_type": "execute_result"
    }
   ],
   "source": [
    "import sys\n",
    "sys.executable"
   ]
  },
  {
   "cell_type": "code",
   "execution_count": 4,
   "metadata": {},
   "outputs": [
    {
     "name": "stdout",
     "output_type": "stream",
     "text": [
      "Collecting pydub\n",
      "  Using cached pydub-0.25.1-py2.py3-none-any.whl (32 kB)\n",
      "Installing collected packages: pydub\n",
      "Successfully installed pydub-0.25.1\n"
     ]
    }
   ],
   "source": [
    "!pip install pydub"
   ]
  },
  {
   "cell_type": "code",
   "execution_count": 5,
   "metadata": {},
   "outputs": [
    {
     "name": "stdout",
     "output_type": "stream",
     "text": [
      "Complete successful in dst\n"
     ]
    }
   ],
   "source": [
    "from src.Convertor import Convertor\n",
    "\n",
    "conv = Convertor()\n",
    "conv.convert('/home/nikolaypavlychev/VocalShift/sounds/kino_test.mp3','/home/nikolaypavlychev/VocalShift/sounds/kino_test.wav',\n",
    "             'mp3','wav')"
   ]
  },
  {
   "cell_type": "code",
   "execution_count": 6,
   "metadata": {},
   "outputs": [
    {
     "data": {
      "text/plain": [
       "'/home/nikolaypavlychev/VocalShift'"
      ]
     },
     "execution_count": 6,
     "metadata": {},
     "output_type": "execute_result"
    }
   ],
   "source": [
    "pwd"
   ]
  },
  {
   "cell_type": "code",
   "execution_count": 8,
   "metadata": {},
   "outputs": [
    {
     "name": "stdout",
     "output_type": "stream",
     "text": [
      "Requirement already satisfied: librosa~=0.10.0 in ./py10/lib/python3.10/site-packages (from -r /home/nikolaypavlychev/VocalShift/vocal_remover/vocal-remover-v5.1.0/vocal-remover/requirements.txt (line 4)) (0.10.1)\n",
      "Requirement already satisfied: matplotlib~=3.8.0 in ./py10/lib/python3.10/site-packages (from -r /home/nikolaypavlychev/VocalShift/vocal_remover/vocal-remover-v5.1.0/vocal-remover/requirements.txt (line 5)) (3.8.2)\n",
      "Requirement already satisfied: opencv_python~=4.8.0 in ./py10/lib/python3.10/site-packages (from -r /home/nikolaypavlychev/VocalShift/vocal_remover/vocal-remover-v5.1.0/vocal-remover/requirements.txt (line 6)) (4.8.1.78)\n",
      "Requirement already satisfied: resampy~=0.4.0 in ./py10/lib/python3.10/site-packages (from -r /home/nikolaypavlychev/VocalShift/vocal_remover/vocal-remover-v5.1.0/vocal-remover/requirements.txt (line 7)) (0.4.2)\n",
      "Requirement already satisfied: tqdm~=4.66.0 in ./py10/lib/python3.10/site-packages (from -r /home/nikolaypavlychev/VocalShift/vocal_remover/vocal-remover-v5.1.0/vocal-remover/requirements.txt (line 8)) (4.66.1)\n",
      "Requirement already satisfied: lazy-loader>=0.1 in ./py10/lib/python3.10/site-packages (from librosa~=0.10.0->-r /home/nikolaypavlychev/VocalShift/vocal_remover/vocal-remover-v5.1.0/vocal-remover/requirements.txt (line 4)) (0.3)\n",
      "Requirement already satisfied: soundfile>=0.12.1 in ./py10/lib/python3.10/site-packages (from librosa~=0.10.0->-r /home/nikolaypavlychev/VocalShift/vocal_remover/vocal-remover-v5.1.0/vocal-remover/requirements.txt (line 4)) (0.12.1)\n",
      "Requirement already satisfied: pooch>=1.0 in ./py10/lib/python3.10/site-packages (from librosa~=0.10.0->-r /home/nikolaypavlychev/VocalShift/vocal_remover/vocal-remover-v5.1.0/vocal-remover/requirements.txt (line 4)) (1.8.0)\n",
      "Requirement already satisfied: scipy>=1.2.0 in ./py10/lib/python3.10/site-packages (from librosa~=0.10.0->-r /home/nikolaypavlychev/VocalShift/vocal_remover/vocal-remover-v5.1.0/vocal-remover/requirements.txt (line 4)) (1.11.4)\n",
      "Requirement already satisfied: joblib>=0.14 in ./py10/lib/python3.10/site-packages (from librosa~=0.10.0->-r /home/nikolaypavlychev/VocalShift/vocal_remover/vocal-remover-v5.1.0/vocal-remover/requirements.txt (line 4)) (1.3.2)\n",
      "Requirement already satisfied: numba>=0.51.0 in ./py10/lib/python3.10/site-packages (from librosa~=0.10.0->-r /home/nikolaypavlychev/VocalShift/vocal_remover/vocal-remover-v5.1.0/vocal-remover/requirements.txt (line 4)) (0.58.1)\n",
      "Requirement already satisfied: decorator>=4.3.0 in ./py10/lib/python3.10/site-packages (from librosa~=0.10.0->-r /home/nikolaypavlychev/VocalShift/vocal_remover/vocal-remover-v5.1.0/vocal-remover/requirements.txt (line 4)) (5.1.1)\n",
      "Requirement already satisfied: msgpack>=1.0 in ./py10/lib/python3.10/site-packages (from librosa~=0.10.0->-r /home/nikolaypavlychev/VocalShift/vocal_remover/vocal-remover-v5.1.0/vocal-remover/requirements.txt (line 4)) (1.0.7)\n",
      "Requirement already satisfied: soxr>=0.3.2 in ./py10/lib/python3.10/site-packages (from librosa~=0.10.0->-r /home/nikolaypavlychev/VocalShift/vocal_remover/vocal-remover-v5.1.0/vocal-remover/requirements.txt (line 4)) (0.3.7)\n",
      "Requirement already satisfied: scikit-learn>=0.20.0 in ./py10/lib/python3.10/site-packages (from librosa~=0.10.0->-r /home/nikolaypavlychev/VocalShift/vocal_remover/vocal-remover-v5.1.0/vocal-remover/requirements.txt (line 4)) (1.3.2)\n",
      "Requirement already satisfied: audioread>=2.1.9 in ./py10/lib/python3.10/site-packages (from librosa~=0.10.0->-r /home/nikolaypavlychev/VocalShift/vocal_remover/vocal-remover-v5.1.0/vocal-remover/requirements.txt (line 4)) (3.0.1)\n",
      "Requirement already satisfied: numpy!=1.22.0,!=1.22.1,!=1.22.2,>=1.20.3 in ./py10/lib/python3.10/site-packages (from librosa~=0.10.0->-r /home/nikolaypavlychev/VocalShift/vocal_remover/vocal-remover-v5.1.0/vocal-remover/requirements.txt (line 4)) (1.26.3)\n",
      "Requirement already satisfied: typing-extensions>=4.1.1 in ./py10/lib/python3.10/site-packages (from librosa~=0.10.0->-r /home/nikolaypavlychev/VocalShift/vocal_remover/vocal-remover-v5.1.0/vocal-remover/requirements.txt (line 4)) (4.9.0)\n",
      "Requirement already satisfied: contourpy>=1.0.1 in ./py10/lib/python3.10/site-packages (from matplotlib~=3.8.0->-r /home/nikolaypavlychev/VocalShift/vocal_remover/vocal-remover-v5.1.0/vocal-remover/requirements.txt (line 5)) (1.2.0)\n",
      "Requirement already satisfied: kiwisolver>=1.3.1 in ./py10/lib/python3.10/site-packages (from matplotlib~=3.8.0->-r /home/nikolaypavlychev/VocalShift/vocal_remover/vocal-remover-v5.1.0/vocal-remover/requirements.txt (line 5)) (1.4.5)\n",
      "Requirement already satisfied: cycler>=0.10 in ./py10/lib/python3.10/site-packages (from matplotlib~=3.8.0->-r /home/nikolaypavlychev/VocalShift/vocal_remover/vocal-remover-v5.1.0/vocal-remover/requirements.txt (line 5)) (0.12.1)\n",
      "Requirement already satisfied: pyparsing>=2.3.1 in ./py10/lib/python3.10/site-packages (from matplotlib~=3.8.0->-r /home/nikolaypavlychev/VocalShift/vocal_remover/vocal-remover-v5.1.0/vocal-remover/requirements.txt (line 5)) (3.1.1)\n",
      "Requirement already satisfied: packaging>=20.0 in ./py10/lib/python3.10/site-packages (from matplotlib~=3.8.0->-r /home/nikolaypavlychev/VocalShift/vocal_remover/vocal-remover-v5.1.0/vocal-remover/requirements.txt (line 5)) (23.2)\n",
      "Requirement already satisfied: pillow>=8 in ./py10/lib/python3.10/site-packages (from matplotlib~=3.8.0->-r /home/nikolaypavlychev/VocalShift/vocal_remover/vocal-remover-v5.1.0/vocal-remover/requirements.txt (line 5)) (10.2.0)\n",
      "Requirement already satisfied: python-dateutil>=2.7 in ./py10/lib/python3.10/site-packages (from matplotlib~=3.8.0->-r /home/nikolaypavlychev/VocalShift/vocal_remover/vocal-remover-v5.1.0/vocal-remover/requirements.txt (line 5)) (2.8.2)\n",
      "Requirement already satisfied: fonttools>=4.22.0 in ./py10/lib/python3.10/site-packages (from matplotlib~=3.8.0->-r /home/nikolaypavlychev/VocalShift/vocal_remover/vocal-remover-v5.1.0/vocal-remover/requirements.txt (line 5)) (4.47.0)\n",
      "Requirement already satisfied: llvmlite<0.42,>=0.41.0dev0 in ./py10/lib/python3.10/site-packages (from numba>=0.51.0->librosa~=0.10.0->-r /home/nikolaypavlychev/VocalShift/vocal_remover/vocal-remover-v5.1.0/vocal-remover/requirements.txt (line 4)) (0.41.1)\n",
      "Requirement already satisfied: requests>=2.19.0 in ./py10/lib/python3.10/site-packages (from pooch>=1.0->librosa~=0.10.0->-r /home/nikolaypavlychev/VocalShift/vocal_remover/vocal-remover-v5.1.0/vocal-remover/requirements.txt (line 4)) (2.31.0)\n",
      "Requirement already satisfied: platformdirs>=2.5.0 in ./py10/lib/python3.10/site-packages (from pooch>=1.0->librosa~=0.10.0->-r /home/nikolaypavlychev/VocalShift/vocal_remover/vocal-remover-v5.1.0/vocal-remover/requirements.txt (line 4)) (4.1.0)\n",
      "Requirement already satisfied: six>=1.5 in ./py10/lib/python3.10/site-packages (from python-dateutil>=2.7->matplotlib~=3.8.0->-r /home/nikolaypavlychev/VocalShift/vocal_remover/vocal-remover-v5.1.0/vocal-remover/requirements.txt (line 5)) (1.16.0)\n",
      "Requirement already satisfied: threadpoolctl>=2.0.0 in ./py10/lib/python3.10/site-packages (from scikit-learn>=0.20.0->librosa~=0.10.0->-r /home/nikolaypavlychev/VocalShift/vocal_remover/vocal-remover-v5.1.0/vocal-remover/requirements.txt (line 4)) (3.2.0)\n",
      "Requirement already satisfied: cffi>=1.0 in ./py10/lib/python3.10/site-packages (from soundfile>=0.12.1->librosa~=0.10.0->-r /home/nikolaypavlychev/VocalShift/vocal_remover/vocal-remover-v5.1.0/vocal-remover/requirements.txt (line 4)) (1.16.0)\n",
      "Requirement already satisfied: pycparser in ./py10/lib/python3.10/site-packages (from cffi>=1.0->soundfile>=0.12.1->librosa~=0.10.0->-r /home/nikolaypavlychev/VocalShift/vocal_remover/vocal-remover-v5.1.0/vocal-remover/requirements.txt (line 4)) (2.21)\n",
      "Requirement already satisfied: urllib3<3,>=1.21.1 in ./py10/lib/python3.10/site-packages (from requests>=2.19.0->pooch>=1.0->librosa~=0.10.0->-r /home/nikolaypavlychev/VocalShift/vocal_remover/vocal-remover-v5.1.0/vocal-remover/requirements.txt (line 4)) (2.1.0)\n",
      "Requirement already satisfied: idna<4,>=2.5 in ./py10/lib/python3.10/site-packages (from requests>=2.19.0->pooch>=1.0->librosa~=0.10.0->-r /home/nikolaypavlychev/VocalShift/vocal_remover/vocal-remover-v5.1.0/vocal-remover/requirements.txt (line 4)) (3.6)\n",
      "Requirement already satisfied: charset-normalizer<4,>=2 in ./py10/lib/python3.10/site-packages (from requests>=2.19.0->pooch>=1.0->librosa~=0.10.0->-r /home/nikolaypavlychev/VocalShift/vocal_remover/vocal-remover-v5.1.0/vocal-remover/requirements.txt (line 4)) (3.3.2)\n",
      "Requirement already satisfied: certifi>=2017.4.17 in ./py10/lib/python3.10/site-packages (from requests>=2.19.0->pooch>=1.0->librosa~=0.10.0->-r /home/nikolaypavlychev/VocalShift/vocal_remover/vocal-remover-v5.1.0/vocal-remover/requirements.txt (line 4)) (2023.11.17)\n"
     ]
    }
   ],
   "source": [
    "!pip install -r /home/nikolaypavlychev/VocalShift/vocal_remover/vocal-remover-v5.1.0/vocal-remover/requirements.txt"
   ]
  },
  {
   "cell_type": "code",
   "execution_count": 10,
   "metadata": {},
   "outputs": [
    {
     "name": "stdout",
     "output_type": "stream",
     "text": [
      "Collecting torch\n",
      "  Downloading torch-2.1.2-cp310-cp310-manylinux1_x86_64.whl (670.2 MB)\n",
      "\u001b[2K     \u001b[90m━━━━━━━━━━━━━━━━━━━━━━━━━━━━━━━━━━━━━━━\u001b[0m \u001b[32m670.2/670.2 MB\u001b[0m \u001b[31m6.8 MB/s\u001b[0m eta \u001b[36m0:00:00\u001b[0m00:01\u001b[0m00:01\u001b[0m\n",
      "\u001b[?25hCollecting networkx\n",
      "  Using cached networkx-3.2.1-py3-none-any.whl (1.6 MB)\n",
      "Collecting sympy\n",
      "  Using cached sympy-1.12-py3-none-any.whl (5.7 MB)\n",
      "Collecting nvidia-cublas-cu12==12.1.3.1\n",
      "  Using cached nvidia_cublas_cu12-12.1.3.1-py3-none-manylinux1_x86_64.whl (410.6 MB)\n",
      "Collecting jinja2\n",
      "  Using cached Jinja2-3.1.2-py3-none-any.whl (133 kB)\n",
      "Collecting nvidia-cuda-cupti-cu12==12.1.105\n",
      "  Using cached nvidia_cuda_cupti_cu12-12.1.105-py3-none-manylinux1_x86_64.whl (14.1 MB)\n",
      "Collecting nvidia-cuda-runtime-cu12==12.1.105\n",
      "  Using cached nvidia_cuda_runtime_cu12-12.1.105-py3-none-manylinux1_x86_64.whl (823 kB)\n",
      "Collecting triton==2.1.0\n",
      "  Downloading triton-2.1.0-0-cp310-cp310-manylinux2014_x86_64.manylinux_2_17_x86_64.whl (89.2 MB)\n",
      "\u001b[2K     \u001b[90m━━━━━━━━━━━━━━━━━━━━━━━━━━━━━━━━━━━━━━━━\u001b[0m \u001b[32m89.2/89.2 MB\u001b[0m \u001b[31m23.2 MB/s\u001b[0m eta \u001b[36m0:00:00\u001b[0m00:01\u001b[0m00:01\u001b[0m\n",
      "\u001b[?25hCollecting nvidia-cudnn-cu12==8.9.2.26\n",
      "  Using cached nvidia_cudnn_cu12-8.9.2.26-py3-none-manylinux1_x86_64.whl (731.7 MB)\n",
      "Collecting filelock\n",
      "  Using cached filelock-3.13.1-py3-none-any.whl (11 kB)\n",
      "Collecting nvidia-nccl-cu12==2.18.1\n",
      "  Using cached nvidia_nccl_cu12-2.18.1-py3-none-manylinux1_x86_64.whl (209.8 MB)\n",
      "Collecting nvidia-cufft-cu12==11.0.2.54\n",
      "  Using cached nvidia_cufft_cu12-11.0.2.54-py3-none-manylinux1_x86_64.whl (121.6 MB)\n",
      "Collecting nvidia-cuda-nvrtc-cu12==12.1.105\n",
      "  Using cached nvidia_cuda_nvrtc_cu12-12.1.105-py3-none-manylinux1_x86_64.whl (23.7 MB)\n",
      "Collecting nvidia-cusolver-cu12==11.4.5.107\n",
      "  Using cached nvidia_cusolver_cu12-11.4.5.107-py3-none-manylinux1_x86_64.whl (124.2 MB)\n",
      "Requirement already satisfied: typing-extensions in ./py10/lib/python3.10/site-packages (from torch) (4.9.0)\n",
      "Collecting nvidia-nvtx-cu12==12.1.105\n",
      "  Using cached nvidia_nvtx_cu12-12.1.105-py3-none-manylinux1_x86_64.whl (99 kB)\n",
      "Collecting nvidia-curand-cu12==10.3.2.106\n",
      "  Using cached nvidia_curand_cu12-10.3.2.106-py3-none-manylinux1_x86_64.whl (56.5 MB)\n",
      "Collecting fsspec\n",
      "  Using cached fsspec-2023.12.2-py3-none-any.whl (168 kB)\n",
      "Collecting nvidia-cusparse-cu12==12.1.0.106\n",
      "  Using cached nvidia_cusparse_cu12-12.1.0.106-py3-none-manylinux1_x86_64.whl (196.0 MB)\n",
      "Collecting nvidia-nvjitlink-cu12\n",
      "  Using cached nvidia_nvjitlink_cu12-12.3.101-py3-none-manylinux1_x86_64.whl (20.5 MB)\n",
      "Collecting MarkupSafe>=2.0\n",
      "  Downloading MarkupSafe-2.1.3-cp310-cp310-manylinux_2_17_x86_64.manylinux2014_x86_64.whl (25 kB)\n",
      "Collecting mpmath>=0.19\n",
      "  Using cached mpmath-1.3.0-py3-none-any.whl (536 kB)\n",
      "Installing collected packages: mpmath, sympy, nvidia-nvtx-cu12, nvidia-nvjitlink-cu12, nvidia-nccl-cu12, nvidia-curand-cu12, nvidia-cufft-cu12, nvidia-cuda-runtime-cu12, nvidia-cuda-nvrtc-cu12, nvidia-cuda-cupti-cu12, nvidia-cublas-cu12, networkx, MarkupSafe, fsspec, filelock, triton, nvidia-cusparse-cu12, nvidia-cudnn-cu12, jinja2, nvidia-cusolver-cu12, torch\n",
      "Successfully installed MarkupSafe-2.1.3 filelock-3.13.1 fsspec-2023.12.2 jinja2-3.1.2 mpmath-1.3.0 networkx-3.2.1 nvidia-cublas-cu12-12.1.3.1 nvidia-cuda-cupti-cu12-12.1.105 nvidia-cuda-nvrtc-cu12-12.1.105 nvidia-cuda-runtime-cu12-12.1.105 nvidia-cudnn-cu12-8.9.2.26 nvidia-cufft-cu12-11.0.2.54 nvidia-curand-cu12-10.3.2.106 nvidia-cusolver-cu12-11.4.5.107 nvidia-cusparse-cu12-12.1.0.106 nvidia-nccl-cu12-2.18.1 nvidia-nvjitlink-cu12-12.3.101 nvidia-nvtx-cu12-12.1.105 sympy-1.12 torch-2.1.2 triton-2.1.0\n"
     ]
    }
   ],
   "source": [
    "!pip install torch"
   ]
  },
  {
   "cell_type": "code",
   "execution_count": null,
   "metadata": {},
   "outputs": [],
   "source": [
    "!cd /home/nikolaypavlychev/VocalShift/vocal_remover/vocal-remover-v5.1.0/vocal-remover"
   ]
  },
  {
   "cell_type": "code",
   "execution_count": 11,
   "metadata": {},
   "outputs": [
    {
     "name": "stdout",
     "output_type": "stream",
     "text": [
      "loading model... Traceback (most recent call last):\n",
      "  File \"/home/nikolaypavlychev/VocalShift/vocal_remover/vocal-remover-v5.1.0/vocal-remover/inference.py\", line 187, in <module>\n",
      "    main()\n",
      "  File \"/home/nikolaypavlychev/VocalShift/vocal_remover/vocal-remover-v5.1.0/vocal-remover/inference.py\", line 129, in main\n",
      "    model.load_state_dict(torch.load(args.pretrained_model, map_location='cpu'))\n",
      "  File \"/home/nikolaypavlychev/VocalShift/py10/lib/python3.10/site-packages/torch/serialization.py\", line 986, in load\n",
      "    with _open_file_like(f, 'rb') as opened_file:\n",
      "  File \"/home/nikolaypavlychev/VocalShift/py10/lib/python3.10/site-packages/torch/serialization.py\", line 435, in _open_file_like\n",
      "    return _open_file(name_or_buffer, mode)\n",
      "  File \"/home/nikolaypavlychev/VocalShift/py10/lib/python3.10/site-packages/torch/serialization.py\", line 416, in __init__\n",
      "    super().__init__(open(name, mode))\n",
      "FileNotFoundError: [Errno 2] No such file or directory: 'models/baseline.pth'\n"
     ]
    }
   ],
   "source": [
    "!python inference.py --input /home/nikolaypavlychev/VocalShift/sounds/kino_test.wav"
   ]
  }
 ],
 "metadata": {
  "kernelspec": {
   "display_name": "py10",
   "language": "python",
   "name": "py10"
  },
  "language_info": {
   "codemirror_mode": {
    "name": "ipython",
    "version": 3
   },
   "file_extension": ".py",
   "mimetype": "text/x-python",
   "name": "python",
   "nbconvert_exporter": "python",
   "pygments_lexer": "ipython3",
   "version": "3.10.12"
  }
 },
 "nbformat": 4,
 "nbformat_minor": 2
}
